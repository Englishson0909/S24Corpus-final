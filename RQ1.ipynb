{
  "nbformat": 4,
  "nbformat_minor": 0,
  "metadata": {
    "colab": {
      "provenance": [],
      "authorship_tag": "ABX9TyPbC+13xijLhtEQBbKe8imy",
      "include_colab_link": true
    },
    "kernelspec": {
      "name": "python3",
      "display_name": "Python 3"
    },
    "language_info": {
      "name": "python"
    }
  },
  "cells": [
    {
      "cell_type": "markdown",
      "metadata": {
        "id": "view-in-github",
        "colab_type": "text"
      },
      "source": [
        "<a href=\"https://colab.research.google.com/github/Englishson0909/S24Corpus-final/blob/main/RQ1.ipynb\" target=\"_parent\"><img src=\"https://colab.research.google.com/assets/colab-badge.svg\" alt=\"Open In Colab\"/></a>"
      ]
    },
    {
      "cell_type": "code",
      "source": [
        "pip install pandas requests\n"
      ],
      "metadata": {
        "colab": {
          "base_uri": "https://localhost:8080/"
        },
        "id": "H57MYap_0pYl",
        "outputId": "7c299f3d-8efa-4a24-ede0-2e3644398911"
      },
      "execution_count": 7,
      "outputs": [
        {
          "output_type": "stream",
          "name": "stdout",
          "text": [
            "Requirement already satisfied: pandas in /usr/local/lib/python3.10/dist-packages (2.0.3)\n",
            "Requirement already satisfied: requests in /usr/local/lib/python3.10/dist-packages (2.31.0)\n",
            "Requirement already satisfied: python-dateutil>=2.8.2 in /usr/local/lib/python3.10/dist-packages (from pandas) (2.8.2)\n",
            "Requirement already satisfied: pytz>=2020.1 in /usr/local/lib/python3.10/dist-packages (from pandas) (2023.4)\n",
            "Requirement already satisfied: tzdata>=2022.1 in /usr/local/lib/python3.10/dist-packages (from pandas) (2024.1)\n",
            "Requirement already satisfied: numpy>=1.21.0 in /usr/local/lib/python3.10/dist-packages (from pandas) (1.25.2)\n",
            "Requirement already satisfied: charset-normalizer<4,>=2 in /usr/local/lib/python3.10/dist-packages (from requests) (3.3.2)\n",
            "Requirement already satisfied: idna<4,>=2.5 in /usr/local/lib/python3.10/dist-packages (from requests) (3.7)\n",
            "Requirement already satisfied: urllib3<3,>=1.21.1 in /usr/local/lib/python3.10/dist-packages (from requests) (2.0.7)\n",
            "Requirement already satisfied: certifi>=2017.4.17 in /usr/local/lib/python3.10/dist-packages (from requests) (2024.6.2)\n",
            "Requirement already satisfied: six>=1.5 in /usr/local/lib/python3.10/dist-packages (from python-dateutil>=2.8.2->pandas) (1.16.0)\n"
          ]
        }
      ]
    },
    {
      "cell_type": "code",
      "source": [
        "import requests\n",
        "import pandas as pd\n",
        "from io import StringIO\n",
        "import re\n",
        "\n",
        "def download_csv(url):\n",
        "    \"\"\"Download a CSV file from a given URL and return it as a pandas DataFrame.\"\"\"\n",
        "    response = requests.get(url)\n",
        "    if response.status_code == 200:\n",
        "        csv_raw = StringIO(response.text)\n",
        "        df = pd.read_csv(csv_raw)\n",
        "        return df\n",
        "    else:\n",
        "        raise Exception(f\"Failed to download CSV. Status code: {response.status_code}\")\n",
        "\n",
        "def count_non_blank_words(df):\n",
        "    \"\"\"Count all non-blank words in a DataFrame, considering all text columns.\"\"\"\n",
        "    # Filter to include only text-based columns if desired (e.g., df.select_dtypes(include=['object']))\n",
        "    text = ' '.join(df.astype(str).sum())  # Convert all data to string and concatenate\n",
        "    text = re.sub(r'\\s+', ' ', text.strip())  # Strip leading/trailing spaces and replace multiple spaces with single space\n",
        "    words_list = re.findall(r'\\b\\w+\\b', text.lower())  # Find all words using regex, making it case-insensitive\n",
        "    return len(words_list)\n",
        "\n",
        "# URL of the CSV file (use the raw version of the file from GitHub)\n",
        "csv_url = 'https://github.com/Englishson0909/S24Corpus-final/raw/main/TEDcleandata.csv'\n",
        "\n",
        "try:\n",
        "    # Download the CSV file from GitHub\n",
        "    df = download_csv(csv_url)\n",
        "\n",
        "    # Count non-blank words across the entire DataFrame\n",
        "    non_blank_word_count = count_non_blank_words(df)\n",
        "\n",
        "    # Output the total non-blank word count\n",
        "    print(f\"Total number of non-blank words in the file: {non_blank_word_count}\")\n",
        "except Exception as e:\n",
        "    print(e)\n"
      ],
      "metadata": {
        "colab": {
          "base_uri": "https://localhost:8080/"
        },
        "id": "qUpVrOvQ2VOE",
        "outputId": "ebab68dd-5532-41b4-c81e-c31f9067dd85"
      },
      "execution_count": 14,
      "outputs": [
        {
          "output_type": "stream",
          "name": "stdout",
          "text": [
            "Total number of non-blank words in the file: 219507\n"
          ]
        }
      ]
    },
    {
      "cell_type": "code",
      "source": [
        "import requests\n",
        "import pandas as pd\n",
        "from io import StringIO\n",
        "import re\n",
        "\n",
        "def download_csv(url):\n",
        "    \"\"\"Download a CSV file from a given URL and return it as a pandas DataFrame.\"\"\"\n",
        "    response = requests.get(url)\n",
        "    if response.status_code == 200:\n",
        "        csv_raw = StringIO(response.text)\n",
        "        df = pd.read_csv(csv_raw)\n",
        "        return df\n",
        "    else:\n",
        "        raise Exception(f\"Failed to download CSV. Status code: {response.status_code}\")\n",
        "\n",
        "def count_non_blank_words(df):\n",
        "    \"\"\"Count all non-blank words in a DataFrame, considering all text columns.\"\"\"\n",
        "    # Convert each cell to string first to avoid any aggregation issues\n",
        "    text = ' '.join(df.fillna('').astype(str).apply(lambda x: ' '.join(x), axis=1))\n",
        "    text = re.sub(r'\\s+', ' ', text.strip())  # Clean up any extra spaces\n",
        "    words_list = re.findall(r'\\b\\w+\\b', text.lower())  # Find all words using regex, making it case-insensitive\n",
        "    return len(words_list)\n",
        "\n",
        "# URL of the CSV file (use the raw version of the file from GitHub)\n",
        "csv_url = 'https://github.com/Englishson0909/S24Corpus-final/raw/main/finalcocatext.csv'\n",
        "\n",
        "try:\n",
        "    # Download the CSV file from GitHub\n",
        "    df = download_csv(csv_url)\n",
        "\n",
        "    # Count non-blank words across the entire DataFrame\n",
        "    non_blank_word_count = count_non_blank_words(df)\n",
        "\n",
        "    # Output the total non-blank word count\n",
        "    print(f\"Total number of non-blank words in the file: {non_blank_word_count}\")\n",
        "except Exception as e:\n",
        "    print(e)\n"
      ],
      "metadata": {
        "colab": {
          "base_uri": "https://localhost:8080/"
        },
        "id": "7PLTlMr6-rVt",
        "outputId": "99172675-c7a4-4ef2-8bd0-953b947f1611"
      },
      "execution_count": 24,
      "outputs": [
        {
          "output_type": "stream",
          "name": "stdout",
          "text": [
            "Total number of non-blank words in the file: 219507\n"
          ]
        }
      ]
    },
    {
      "cell_type": "markdown",
      "source": [
        "RQ1\n",
        "How does the frequency of the adverb \"very\" differ between written and spoken texts?"
      ],
      "metadata": {
        "id": "GW7tvnLJy1Ep"
      }
    },
    {
      "cell_type": "code",
      "source": [
        "pip install pandas requests\n"
      ],
      "metadata": {
        "colab": {
          "base_uri": "https://localhost:8080/"
        },
        "id": "KQpTi5vzx-2-",
        "outputId": "bd60d52f-a980-407c-ae66-53b57d40b08c"
      },
      "execution_count": 25,
      "outputs": [
        {
          "output_type": "stream",
          "name": "stdout",
          "text": [
            "Requirement already satisfied: pandas in /usr/local/lib/python3.10/dist-packages (2.0.3)\n",
            "Requirement already satisfied: requests in /usr/local/lib/python3.10/dist-packages (2.31.0)\n",
            "Requirement already satisfied: python-dateutil>=2.8.2 in /usr/local/lib/python3.10/dist-packages (from pandas) (2.8.2)\n",
            "Requirement already satisfied: pytz>=2020.1 in /usr/local/lib/python3.10/dist-packages (from pandas) (2023.4)\n",
            "Requirement already satisfied: tzdata>=2022.1 in /usr/local/lib/python3.10/dist-packages (from pandas) (2024.1)\n",
            "Requirement already satisfied: numpy>=1.21.0 in /usr/local/lib/python3.10/dist-packages (from pandas) (1.25.2)\n",
            "Requirement already satisfied: charset-normalizer<4,>=2 in /usr/local/lib/python3.10/dist-packages (from requests) (3.3.2)\n",
            "Requirement already satisfied: idna<4,>=2.5 in /usr/local/lib/python3.10/dist-packages (from requests) (3.7)\n",
            "Requirement already satisfied: urllib3<3,>=1.21.1 in /usr/local/lib/python3.10/dist-packages (from requests) (2.0.7)\n",
            "Requirement already satisfied: certifi>=2017.4.17 in /usr/local/lib/python3.10/dist-packages (from requests) (2024.6.2)\n",
            "Requirement already satisfied: six>=1.5 in /usr/local/lib/python3.10/dist-packages (from python-dateutil>=2.8.2->pandas) (1.16.0)\n"
          ]
        }
      ]
    },
    {
      "cell_type": "code",
      "source": [
        "import requests\n",
        "import pandas as pd\n",
        "from io import StringIO\n",
        "import re\n",
        "\n",
        "def download_csv(url):\n",
        "    \"\"\"Download a CSV file from a given URL and return it as a pandas DataFrame.\"\"\"\n",
        "    response = requests.get(url)\n",
        "    if response.status_code == 200:\n",
        "        csv_raw = StringIO(response.text)\n",
        "        df = pd.read_csv(csv_raw)\n",
        "        return df\n",
        "    else:\n",
        "        raise Exception(f\"Failed to download CSV. Status code: {response.status_code}\")\n",
        "\n",
        "def count_specific_word(df, word):\n",
        "    \"\"\"Count occurrences of a specific word in a DataFrame, considering all text columns.\"\"\"\n",
        "    # Convert each cell to string first to avoid any aggregation issues\n",
        "    text = ' '.join(df.fillna('').astype(str).apply(lambda x: ' '.join(x), axis=1))\n",
        "    text = re.sub(r'\\s+', ' ', text.strip())  # Clean up any extra spaces\n",
        "    words_list = re.findall(r'\\b{}\\b'.format(re.escape(word.lower())), text.lower())  # Find all instances of the word\n",
        "    return len(words_list)\n",
        "\n",
        "# URL of the CSV file (use the raw version of the file from GitHub)\n",
        "csv_url = 'https://github.com/Englishson0909/S24Corpus-final/raw/main/finalcocatext.csv'\n",
        "\n",
        "try:\n",
        "    # Download the CSV file from GitHub\n",
        "    df = download_csv(csv_url)\n",
        "\n",
        "    # Count occurrences of the word \"very\" across the entire DataFrame\n",
        "    word_to_count = \"very\"\n",
        "    word_count = count_specific_word(df, word_to_count)\n",
        "\n",
        "    # Output the total word count\n",
        "    print(f\"The word '{word_to_count}' appears {word_count} times in the CSV.\")\n",
        "except Exception as e:\n",
        "    print(e)\n"
      ],
      "metadata": {
        "colab": {
          "base_uri": "https://localhost:8080/"
        },
        "id": "8UwREVcV_5O-",
        "outputId": "f6959d12-514a-4002-ff36-48e9db21ade9"
      },
      "execution_count": 28,
      "outputs": [
        {
          "output_type": "stream",
          "name": "stdout",
          "text": [
            "The word 'very' appears 201 times in the CSV.\n"
          ]
        }
      ]
    },
    {
      "cell_type": "code",
      "source": [],
      "metadata": {
        "id": "i9ZeEyuYHt2O"
      },
      "execution_count": null,
      "outputs": []
    },
    {
      "cell_type": "code",
      "source": [
        "import requests\n",
        "import pandas as pd\n",
        "from io import StringIO\n",
        "import re\n",
        "\n",
        "def download_csv(url):\n",
        "    \"\"\"Download a CSV file from a given URL and return it as a pandas DataFrame.\"\"\"\n",
        "    response = requests.get(url)\n",
        "    if response.status_code == 200:\n",
        "        csv_raw = StringIO(response.text)\n",
        "        df = pd.read_csv(csv_raw)\n",
        "        return df\n",
        "    else:\n",
        "        raise Exception(f\"Failed to download CSV. Status code: {response.status_code}\")\n",
        "\n",
        "def count_specific_word(df, word):\n",
        "    \"\"\"Count occurrences of a specific word in a DataFrame, considering all text columns.\"\"\"\n",
        "    # Convert each cell to string first to avoid any aggregation issues\n",
        "    text = ' '.join(df.fillna('').astype(str).apply(lambda x: ' '.join(x), axis=1))\n",
        "    text = re.sub(r'\\s+', ' ', text.strip())  # Clean up any extra spaces\n",
        "    words_list = re.findall(r'\\b{}\\b'.format(re.escape(word.lower())), text.lower())  # Find all instances of the word\n",
        "    return len(words_list)\n",
        "\n",
        "# URL of the CSV file (use the raw version of the file from GitHub)\n",
        "csv_url = 'https://github.com/Englishson0909/S24Corpus-final/raw/main/TEDcleandata.csv'\n",
        "\n",
        "try:\n",
        "    # Download the CSV file from GitHub\n",
        "    df = download_csv(csv_url)\n",
        "\n",
        "    # Count occurrences of the word \"very\" across the entire DataFrame\n",
        "    word_to_count = \"very\"\n",
        "    word_count = count_specific_word(df, word_to_count)\n",
        "\n",
        "    # Output the total word count\n",
        "    print(f\"The word '{word_to_count}' appears {word_count} times in the CSV.\")\n",
        "except Exception as e:\n",
        "    print(e)\n"
      ],
      "metadata": {
        "colab": {
          "base_uri": "https://localhost:8080/"
        },
        "id": "mhW-4X5m_5at",
        "outputId": "e159f557-cbbb-495f-ec22-bd8c9f8189a9"
      },
      "execution_count": 29,
      "outputs": [
        {
          "output_type": "stream",
          "name": "stdout",
          "text": [
            "The word 'very' appears 465 times in the CSV.\n"
          ]
        }
      ]
    },
    {
      "cell_type": "code",
      "source": [
        "pip install matplotlib pandas\n"
      ],
      "metadata": {
        "colab": {
          "base_uri": "https://localhost:8080/"
        },
        "id": "syeN7yPRzrTF",
        "outputId": "2bc23bc6-9f78-43aa-d83b-6ef0f9c4f26d"
      },
      "execution_count": 30,
      "outputs": [
        {
          "output_type": "stream",
          "name": "stdout",
          "text": [
            "Requirement already satisfied: matplotlib in /usr/local/lib/python3.10/dist-packages (3.7.1)\n",
            "Requirement already satisfied: pandas in /usr/local/lib/python3.10/dist-packages (2.0.3)\n",
            "Requirement already satisfied: contourpy>=1.0.1 in /usr/local/lib/python3.10/dist-packages (from matplotlib) (1.2.1)\n",
            "Requirement already satisfied: cycler>=0.10 in /usr/local/lib/python3.10/dist-packages (from matplotlib) (0.12.1)\n",
            "Requirement already satisfied: fonttools>=4.22.0 in /usr/local/lib/python3.10/dist-packages (from matplotlib) (4.53.0)\n",
            "Requirement already satisfied: kiwisolver>=1.0.1 in /usr/local/lib/python3.10/dist-packages (from matplotlib) (1.4.5)\n",
            "Requirement already satisfied: numpy>=1.20 in /usr/local/lib/python3.10/dist-packages (from matplotlib) (1.25.2)\n",
            "Requirement already satisfied: packaging>=20.0 in /usr/local/lib/python3.10/dist-packages (from matplotlib) (24.1)\n",
            "Requirement already satisfied: pillow>=6.2.0 in /usr/local/lib/python3.10/dist-packages (from matplotlib) (9.4.0)\n",
            "Requirement already satisfied: pyparsing>=2.3.1 in /usr/local/lib/python3.10/dist-packages (from matplotlib) (3.1.2)\n",
            "Requirement already satisfied: python-dateutil>=2.7 in /usr/local/lib/python3.10/dist-packages (from matplotlib) (2.8.2)\n",
            "Requirement already satisfied: pytz>=2020.1 in /usr/local/lib/python3.10/dist-packages (from pandas) (2023.4)\n",
            "Requirement already satisfied: tzdata>=2022.1 in /usr/local/lib/python3.10/dist-packages (from pandas) (2024.1)\n",
            "Requirement already satisfied: six>=1.5 in /usr/local/lib/python3.10/dist-packages (from python-dateutil>=2.7->matplotlib) (1.16.0)\n"
          ]
        }
      ]
    },
    {
      "cell_type": "code",
      "source": [],
      "metadata": {
        "id": "oL_IHkkM0mI1"
      },
      "execution_count": null,
      "outputs": []
    },
    {
      "cell_type": "code",
      "source": [
        "import matplotlib.pyplot as plt\n",
        "import pandas as pd\n",
        "\n",
        "# Example data: replace these with your actual data\n",
        "data = {\n",
        "    'Metric': ['Frequency of very'],\n",
        "    'TED': [465],\n",
        "    'COCA': [201]\n",
        "}\n",
        "\n",
        "# Convert dictionary to DataFrame\n",
        "df = pd.DataFrame(data)\n",
        "\n",
        "# Plotting the bar chart\n",
        "fig, ax = plt.subplots()\n",
        "# Set position of bar on X axis\n",
        "x = df.index\n",
        "width = 0.35  # width of the bars\n",
        "\n",
        "# Make the plot\n",
        "rects1 = ax.bar(x - width/2, df['TED'], width, label='TED')\n",
        "rects2 = ax.bar(x + width/2, df['COCA'], width, label='COCA')\n",
        "\n",
        "# Add some text for labels, title and custom x-axis tick labels, etc.\n",
        "ax.set_xlabel('Metrics')\n",
        "ax.set_ylabel('Values')\n",
        "ax.set_title('Comparison between TED and COCA metrics')\n",
        "ax.set_xticks(x)\n",
        "ax.set_xticklabels(df['Metric'])\n",
        "ax.legend()\n",
        "\n",
        "# Attach a text label above each bar in *rects*, displaying its height.\n",
        "def autolabel(rects):\n",
        "    \"\"\"Attach a text label above each bar in *rects*, displaying its height.\"\"\"\n",
        "    for rect in rects:\n",
        "        height = rect.get_height()\n",
        "        ax.annotate('{}'.format(height),\n",
        "                    xy=(rect.get_x() + rect.get_width() / 2, height),\n",
        "                    xytext=(0, 3),  # 3 points vertical offset\n",
        "                    textcoords=\"offset points\",\n",
        "                    ha='center', va='bottom')\n",
        "\n",
        "autolabel(rects1)\n",
        "autolabel(rects2)\n",
        "\n",
        "fig.tight_layout()\n",
        "\n",
        "plt.show()\n"
      ],
      "metadata": {
        "colab": {
          "base_uri": "https://localhost:8080/",
          "height": 487
        },
        "id": "j1hbIsZ_0DZe",
        "outputId": "83ae5375-1602-474d-9105-f5398816a58a"
      },
      "execution_count": 31,
      "outputs": [
        {
          "output_type": "display_data",
          "data": {
            "text/plain": [
              "<Figure size 640x480 with 1 Axes>"
            ],
            "image/png": "[encoded data removed]"
          },
          "metadata": {}
        }
      ]
    }
  ]
}